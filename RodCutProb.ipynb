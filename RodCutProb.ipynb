{
 "cells": [
  {
   "cell_type": "code",
   "execution_count": 57,
   "id": "178196e7-9287-48d2-bc61-d6ead2c10b96",
   "metadata": {
    "tags": []
   },
   "outputs": [
    {
     "name": "stdout",
     "output_type": "stream",
     "text": [
      "Maximum revenue obtainable for rod of length 4: 4\n",
      "All combinations of pieces for maximum revenue: [[1, 1, 1, 1], [1, 1, 2], [1, 2, 1], [1, 3], [2, 1, 1], [2, 2], [3, 1], [4]]\n"
     ]
    }
   ],
   "source": [
    "def rod_cutting_all_combinations(prices, n):\n",
    "    # Initialize the DP array and cuts array\n",
    "    dp = [0] * (n + 1)\n",
    "    cuts = [[] for _ in range(n + 1)]\n",
    "\n",
    "    # Fill the DP array and cuts array\n",
    "    for i in range(1, n + 1):\n",
    "        max_revenue = float('-inf')\n",
    "        for j in range(1, i + 1):\n",
    "            if j <= i:\n",
    "                potential_revenue = prices[j] + dp[i - j]\n",
    "                if potential_revenue > max_revenue:\n",
    "                    max_revenue = potential_revenue\n",
    "                    cuts[i] = [j]  # Start a new list of cuts\n",
    "                elif potential_revenue == max_revenue:\n",
    "                    cuts[i].append(j)  # Add this cut length to the list\n",
    "        dp[i] = max_revenue\n",
    "\n",
    "    # Function to find all combinations of cuts recursively\n",
    "    def find_combinations(length, current_combination, all_combinations):\n",
    "        if length == 0:\n",
    "            all_combinations.append(current_combination.copy())\n",
    "            return\n",
    "        for cut in cuts[length]:\n",
    "            current_combination.append(cut)\n",
    "            find_combinations(length - cut, current_combination, all_combinations)\n",
    "            current_combination.pop()  # Backtrack\n",
    "\n",
    "    all_combinations = []\n",
    "    find_combinations(n, [], all_combinations)\n",
    "\n",
    "    return dp[n], all_combinations\n",
    "\n",
    "# Example usage\n",
    "prices = [0, 1, 2, 3, 4]  # Prices for lengths 0 to 4\n",
    "n = 4  # Length of the rod\n",
    "max_revenue, piece_combinations = rod_cutting_all_combinations(prices, n)\n",
    "print(f\"Maximum revenue obtainable for rod of length {n}: {max_revenue}\")\n",
    "print(f\"All combinations of pieces for maximum revenue: {piece_combinations}\")"
   ]
  },
  {
   "cell_type": "code",
   "execution_count": null,
   "id": "95fb169d-66b7-4e10-aac1-ee12d9050c65",
   "metadata": {},
   "outputs": [],
   "source": []
  }
 ],
 "metadata": {
  "kernelspec": {
   "display_name": "Python 3 (ipykernel)",
   "language": "python",
   "name": "python3"
  },
  "language_info": {
   "codemirror_mode": {
    "name": "ipython",
    "version": 3
   },
   "file_extension": ".py",
   "mimetype": "text/x-python",
   "name": "python",
   "nbconvert_exporter": "python",
   "pygments_lexer": "ipython3",
   "version": "3.10.8"
  }
 },
 "nbformat": 4,
 "nbformat_minor": 5
}

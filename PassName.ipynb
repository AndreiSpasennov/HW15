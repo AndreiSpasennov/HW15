{
 "cells": [
  {
   "cell_type": "code",
   "execution_count": 62,
   "id": "f642183d-cffb-4a61-8713-b3a4fadffcf7",
   "metadata": {
    "tags": []
   },
   "outputs": [],
   "source": [
    "import os\n",
    "import json\n",
    "import psycopg2\n",
    "from psycopg2.extras import DictCursor"
   ]
  },
  {
   "cell_type": "code",
   "execution_count": 63,
   "id": "9c46f04d-81db-4477-b58b-659ae1cac47b",
   "metadata": {
    "tags": []
   },
   "outputs": [],
   "source": [
    "POSTGRESQL_HOST = '10.129.0.25'"
   ]
  },
  {
   "cell_type": "code",
   "execution_count": 64,
   "id": "fa89ad1e-05a9-48b7-a04a-3e966eae57de",
   "metadata": {
    "tags": []
   },
   "outputs": [
    {
     "name": "stdout",
     "output_type": "stream",
     "text": [
      "POSTGRESQL_USER=reader\n",
      "POSTGRESQL_PASSWORD=Miba2021\n"
     ]
    }
   ],
   "source": [
    "!env | grep POST"
   ]
  },
  {
   "cell_type": "code",
   "execution_count": 65,
   "id": "ca0fad0b-f020-47dd-9c8d-0b2fc9b44e1b",
   "metadata": {
    "tags": []
   },
   "outputs": [],
   "source": [
    "conn = psycopg2.connect(\n",
    "    dbname='demo', \n",
    "    user=os.environ['POSTGRESQL_USER'],\n",
    "    password=os.environ['POSTGRESQL_PASSWORD'], \n",
    "    host=POSTGRESQL_HOST\n",
    ")\n",
    "cur = conn.cursor()"
   ]
  },
  {
   "cell_type": "code",
   "execution_count": 66,
   "id": "077f626d-b7f8-476b-beae-bfe470e43754",
   "metadata": {
    "tags": []
   },
   "outputs": [],
   "source": [
    "query = \"SELECT passenger_name FROM tickets WHERE ticket_no = '0005432312164'\""
   ]
  },
  {
   "cell_type": "code",
   "execution_count": 67,
   "id": "de372eaf-b7fa-49a8-b3f8-cb453caeea2c",
   "metadata": {
    "tags": []
   },
   "outputs": [],
   "source": [
    "cur.execute(query)\n",
    "records = cur.fetchall()\n",
    "cur.close()\n",
    "conn.close()"
   ]
  },
  {
   "cell_type": "code",
   "execution_count": 68,
   "id": "ffcf7ff7-e63b-46f8-92eb-9cc838504c55",
   "metadata": {
    "tags": []
   },
   "outputs": [
    {
     "data": {
      "text/plain": [
       "[('ALEKSEY GERASIMOV',)]"
      ]
     },
     "execution_count": 68,
     "metadata": {},
     "output_type": "execute_result"
    }
   ],
   "source": [
    "records"
   ]
  },
  {
   "cell_type": "code",
   "execution_count": null,
   "id": "4b1562c5-3eaf-430c-92da-306929415eed",
   "metadata": {},
   "outputs": [],
   "source": []
  }
 ],
 "metadata": {
  "kernelspec": {
   "display_name": "Python 3 (ipykernel)",
   "language": "python",
   "name": "python3"
  },
  "language_info": {
   "codemirror_mode": {
    "name": "ipython",
    "version": 3
   },
   "file_extension": ".py",
   "mimetype": "text/x-python",
   "name": "python",
   "nbconvert_exporter": "python",
   "pygments_lexer": "ipython3",
   "version": "3.10.8"
  }
 },
 "nbformat": 4,
 "nbformat_minor": 5
}

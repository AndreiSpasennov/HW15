{
 "cells": [
  {
   "cell_type": "code",
   "execution_count": 5,
   "id": "b22acf9b-1dd8-440a-a7ab-765183a829ab",
   "metadata": {
    "tags": []
   },
   "outputs": [],
   "source": [
    "import os\n",
    "import json\n",
    "import psycopg2\n",
    "from psycopg2.extras import DictCursor"
   ]
  },
  {
   "cell_type": "code",
   "execution_count": 6,
   "id": "b99c9025-73a8-45ee-a49c-70378c07cd0a",
   "metadata": {
    "tags": []
   },
   "outputs": [],
   "source": [
    "POSTGRESQL_HOST = '10.129.0.25'"
   ]
  },
  {
   "cell_type": "code",
   "execution_count": 7,
   "id": "f9dfcf61-9666-4178-b58c-365e7804df47",
   "metadata": {
    "tags": []
   },
   "outputs": [
    {
     "name": "stdout",
     "output_type": "stream",
     "text": [
      "POSTGRESQL_USER=reader\n",
      "POSTGRESQL_PASSWORD=Miba2021\n"
     ]
    }
   ],
   "source": [
    "# Access option 11.1\n",
    "!env | grep POST"
   ]
  },
  {
   "cell_type": "code",
   "execution_count": 8,
   "id": "0356324b-e91f-4d23-bf0b-4c9e59f1166d",
   "metadata": {
    "tags": []
   },
   "outputs": [],
   "source": [
    "conn = psycopg2.connect(\n",
    "    dbname='demo', \n",
    "    user=os.environ['POSTGRESQL_USER'],\n",
    "    password=os.environ['POSTGRESQL_PASSWORD'], \n",
    "    host=POSTGRESQL_HOST\n",
    ")\n",
    "cur = conn.cursor()"
   ]
  },
  {
   "cell_type": "code",
   "execution_count": 9,
   "id": "04d61bed-e10a-4f1e-83bd-42f7038d162f",
   "metadata": {
    "tags": []
   },
   "outputs": [],
   "source": [
    "query = 'SELECT city FROM airports LIMIT 15'"
   ]
  },
  {
   "cell_type": "code",
   "execution_count": 10,
   "id": "8cb7db3c-f36f-422e-b489-ca07a5ddc518",
   "metadata": {
    "tags": []
   },
   "outputs": [
    {
     "data": {
      "text/plain": [
       "[('Yakutsk',),\n",
       " ('Mirnyj',),\n",
       " ('Khabarovsk',),\n",
       " ('Petropavlovsk',),\n",
       " ('Yuzhno-Sakhalinsk',),\n",
       " ('Vladivostok',),\n",
       " ('St. Petersburg',),\n",
       " ('Kaliningrad',),\n",
       " ('Kemorovo',),\n",
       " ('Chelyabinsk',),\n",
       " ('Magnetiogorsk',),\n",
       " ('Perm',),\n",
       " ('Surgut',),\n",
       " ('Bryansk',),\n",
       " ('Mineralnye Vody',)]"
      ]
     },
     "execution_count": 10,
     "metadata": {},
     "output_type": "execute_result"
    }
   ],
   "source": [
    "cur.execute(query)\n",
    "records = cur.fetchall()\n",
    "cur.close()\n",
    "conn.close()\n",
    "records"
   ]
  },
  {
   "cell_type": "code",
   "execution_count": 18,
   "id": "278ed850-d7af-43f7-b430-09f654982e62",
   "metadata": {
    "tags": []
   },
   "outputs": [],
   "source": [
    "# Access option 11.2\n",
    "with psycopg2.connect(\n",
    "    dbname='demo', \n",
    "    user=os.environ['POSTGRESQL_USER'],\n",
    "    password=os.environ['POSTGRESQL_PASSWORD'], \n",
    "    host=POSTGRESQL_HOST\n",
    ") as conn:\n",
    "    with conn.cursor() as cur:\n",
    "        cur.execute('SELECT model, range FROM aircrafts LIMIT 5')\n",
    "        records = cur.fetchall()"
   ]
  },
  {
   "cell_type": "code",
   "execution_count": 19,
   "id": "8fe21888-3548-4308-b6ad-92def5b60094",
   "metadata": {
    "tags": []
   },
   "outputs": [
    {
     "data": {
      "text/plain": [
       "[('Boeing 777-300', 11100),\n",
       " ('Boeing 767-300', 7900),\n",
       " ('Sukhoi Superjet-100', 3000),\n",
       " ('Airbus A320-200', 5700),\n",
       " ('Airbus A321-200', 5600)]"
      ]
     },
     "execution_count": 19,
     "metadata": {},
     "output_type": "execute_result"
    }
   ],
   "source": [
    "records"
   ]
  }
 ],
 "metadata": {
  "kernelspec": {
   "display_name": "Python 3 (ipykernel)",
   "language": "python",
   "name": "python3"
  },
  "language_info": {
   "codemirror_mode": {
    "name": "ipython",
    "version": 3
   },
   "file_extension": ".py",
   "mimetype": "text/x-python",
   "name": "python",
   "nbconvert_exporter": "python",
   "pygments_lexer": "ipython3",
   "version": "3.10.8"
  }
 },
 "nbformat": 4,
 "nbformat_minor": 5
}
